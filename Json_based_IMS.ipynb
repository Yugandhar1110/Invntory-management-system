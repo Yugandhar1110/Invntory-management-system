{
  "nbformat": 4,
  "nbformat_minor": 0,
  "metadata": {
    "colab": {
      "name": "Json based IMS",
      "provenance": [],
      "collapsed_sections": []
    },
    "kernelspec": {
      "name": "python3",
      "display_name": "Python 3"
    },
    "language_info": {
      "name": "python"
    }
  },
  "cells": [
    {
      "cell_type": "code",
      "metadata": {
        "id": "RVEKVC09BKcA"
      },
      "source": [
        "# Available Products in My market"
      ],
      "execution_count": 1,
      "outputs": []
    },
    {
      "cell_type": "code",
      "metadata": {
        "id": "Dd5DMRVrUaTr"
      },
      "source": [
        "records = {\n",
        "    1230 : {'p_name':'kit-kat','price':5,'quant':100,'p_type':'chockalate'},\n",
        "    1231 : {'p_name':'five star','price':10,'quant':120,'p_type':'chockalate'},\n",
        "    1232 : {'p_name':'dairy-milk','price':50,'quant':50,'p_type':'chockalate'},\n",
        "    1233 : {'p_name':'Unibic Biscuit','price':25,'quant':150,'p_type':'Biscuit'},\n",
        "    1234 : {'p_name':'Dukes Biscuit','price':250,'quant':25,'p_type':'Biscuit'},\n",
        "    1235 : {'p_name':'Cadbury Oreo Biscuit','price':150,'quant':50,'p_type':'Biscuit'},\n",
        "    1236 : {'p_name':'Parle Biscuit','price':10,'quant':100,'p_type':'Biscuit'},\n",
        "    1237 : {'p_name':'Britannia Biscuit','price':30,'quant':90,'p_type':'Biscuit'},\n",
        "    1238 : {'p_name':'Sunfeast Biscuit','price':5,'quant':200,'p_type':'Biscuit'},\n",
        "    1239 : {'p_name':'McVitie Biscuit','price':15,'quant':80,'p_type':'Biscuit'},\n",
        "    1240 : {'p_name':'Samsung M30','price':14900,'quant':20,'p_type':'Electronics'},\n",
        "    1241 : {'p_name':'Samsung M30S','price':17900,'quant':15,'p_type':'Electronics'},\n",
        "    1242 : {'p_name':'MI Note5','price':11100,'quant':30,'p_type':'Electronics'},\n",
        "    1243 : {'p_name':'MI Note10','price':32000,'quant':5,'p_type':'Electronics'},\n",
        "    1244 : {'p_name':'Oppo Reno 6 ','price':21900,'quant':6,'p_type':'Electronics'},\n",
        "    1245 : {'p_name':'Oppo A25','price':17900,'quant':3,'p_type':'Electronics'},\n",
        "    1246 : {'p_name':'Oppo F17','price':12000,'quant':10,'p_type':'Electronics'},\n",
        "    1247 : {'p_name':'Boats headset','price':1200,'quant':7,'p_type':'Electronics'},\n",
        "    1248 : {'p_name':'Samsung headset','price':450,'quant':10,'p_type':'Electronics'},\n",
        "    1249 : {'p_name':'Iphone 10plus','price':59999,'quant':3,'p_type':'Electronics'},\n",
        "    1250 : {'p_name':'Adidas','price':1200,'quant':20,'p_type':'Shoes'},\n",
        "    1251 : {'p_name':'Puma','price':1500,'quant':15,'p_type':'Shoes'},\n",
        "    1252 : {'p_name':'Woodland','price':2999,'quant':8,'p_type':'Shoes'},\n",
        "    1253 : {'p_name':'Nike','price':2500,'quant':10,'p_type':'Shoes'},\n",
        "    1254 : {'p_name':'Bata','price':1999,'quant':15,'p_type':'Shoes'},\n",
        "    1255 : {'p_name':'Reymond Shirts','price':2599,'quant':15,'p_type':'Shirt'},\n",
        "    1256 : {'p_name':'Arrow Shirts','price':1999,'quant':15,'p_type':'Shirt'},\n",
        "    1257 : {'p_name':'Peter England Shirts','price':1499,'quant':15,'p_type':'Shirt'},\n",
        "    1258 : {'p_name':'Van Heusen Shirts','price':999,'quant':15,'p_type':'Shirt'},\n",
        "    1259 : {'p_name':'Allen solly','price':1300,'quant':15,'p_type':'Shirt'}\n",
        "\n",
        "}"
      ],
      "execution_count": 2,
      "outputs": []
    },
    {
      "cell_type": "code",
      "metadata": {
        "id": "7i4VbuC6Bp8J"
      },
      "source": [
        "# Upload available Products in to the Json file"
      ],
      "execution_count": 3,
      "outputs": []
    },
    {
      "cell_type": "code",
      "metadata": {
        "id": "6mqiirpA2SEC"
      },
      "source": [
        "import json\n",
        "js = json.dumps(records)\n",
        "\n",
        "fd = open('record.json','w')\n",
        "fd.write(js)\n",
        "fd.close()\n"
      ],
      "execution_count": 4,
      "outputs": []
    },
    {
      "cell_type": "code",
      "metadata": {
        "id": "4dY_rsFkB8HU"
      },
      "source": [
        "# Billing of a Purchased products"
      ],
      "execution_count": 5,
      "outputs": []
    },
    {
      "cell_type": "code",
      "metadata": {
        "colab": {
          "base_uri": "https://localhost:8080/"
        },
        "id": "5TXH5NRSGkf9",
        "outputId": "58b4e2c9-cb46-4395-a749-209130b1cef6"
      },
      "source": [
        "import time\n",
        "\n",
        "fd = open('record.json','r')\n",
        "txt = fd.read()\n",
        "fd.close()\n",
        "\n",
        "records = json.loads(txt)\n",
        "\n",
        "print('*** Welcome to \"my super market\" ***')\n",
        "print('Please Wear a Mask')\n",
        "\n",
        "num = int(input('Enter number of items Taken : '))\n",
        "\n",
        "amount = 0\n",
        "for i in range(num):\n",
        "  id = input('Enter prodct id: ')\n",
        "  ui_quan = int(input('Enter each quantity of a product: '))\n",
        "  if id in records:\n",
        "    print('*****************************************')\n",
        "    print('Product name: ',records[id]['p_name'])\n",
        "    print('Product type: ',records[id]['p_type'])\n",
        "    print('Each Product price: Rs.',records[id]['price'])\n",
        "    print('Purchased quantity: ',ui_quan)\n",
        "    pri = ui_quan * records[id]['price']\n",
        "    amount = amount + pri\n",
        "    print('price of ',ui_quan,records[id]['p_name'],'is: Rs.',pri)\n",
        "    print('*****************************************')\n",
        "    x = records[id]['quant']\n",
        "    records[id]['quant'] = x - ui_quan\n",
        "\n",
        "  \n",
        "  else:\n",
        "    print(id,'this is Invalid Id')\n",
        "    print('*****************************************')\n",
        "\n",
        "print('-------------------------------')\n",
        "print('Total Bill : Rs.', float(amount))\n",
        "print('Date and time: ',time. ctime())\n",
        "print('*** Thank you ***')\n",
        "print('*** Visit again ***')\n",
        "\n",
        "js = json.dumps(records)\n",
        "\n",
        "fd = open('record.json','w')\n",
        "fd.write(js)\n",
        "fd.close()\n",
        "\n",
        "\n",
        "\n",
        "    \n"
      ],
      "execution_count": 6,
      "outputs": [
        {
          "output_type": "stream",
          "name": "stdout",
          "text": [
            "*** Welcome to \"my super market\" ***\n",
            "Please Wear a Mask\n",
            "Enter number of items Taken : 4\n",
            "Enter prodct id: 1234\n",
            "Enter each quantity of a product: 4\n",
            "*****************************************\n",
            "Product name:  Dukes Biscuit\n",
            "Product type:  Biscuit\n",
            "Each Product price: Rs. 250\n",
            "Purchased quantity:  4\n",
            "price of  4 Dukes Biscuit is: Rs. 1000\n",
            "*****************************************\n",
            "Enter prodct id: 1258\n",
            "Enter each quantity of a product: 2\n",
            "*****************************************\n",
            "Product name:  Van Heusen Shirts\n",
            "Product type:  Shirt\n",
            "Each Product price: Rs. 999\n",
            "Purchased quantity:  2\n",
            "price of  2 Van Heusen Shirts is: Rs. 1998\n",
            "*****************************************\n",
            "Enter prodct id: 1243\n",
            "Enter each quantity of a product: 3\n",
            "*****************************************\n",
            "Product name:  MI Note10\n",
            "Product type:  Electronics\n",
            "Each Product price: Rs. 32000\n",
            "Purchased quantity:  3\n",
            "price of  3 MI Note10 is: Rs. 96000\n",
            "*****************************************\n",
            "Enter prodct id: 1238\n",
            "Enter each quantity of a product: 2\n",
            "*****************************************\n",
            "Product name:  Sunfeast Biscuit\n",
            "Product type:  Biscuit\n",
            "Each Product price: Rs. 5\n",
            "Purchased quantity:  2\n",
            "price of  2 Sunfeast Biscuit is: Rs. 10\n",
            "*****************************************\n",
            "-------------------------------\n",
            "Total Bill : Rs. 99008.0\n",
            "Date and time:  Wed Sep  8 06:14:05 2021\n",
            "*** Thank you ***\n",
            "*** Visit again ***\n"
          ]
        }
      ]
    },
    {
      "cell_type": "code",
      "metadata": {
        "id": "NyUTyJinCIL9"
      },
      "source": [
        "# Update the records.json file after Purchasing with Availble stocks "
      ],
      "execution_count": 7,
      "outputs": []
    },
    {
      "cell_type": "code",
      "metadata": {
        "id": "2GbbfJYDvPje"
      },
      "source": [
        "fd = open('record.json','r')\n",
        "data = fd.read()\n",
        "fd.close()\n"
      ],
      "execution_count": 8,
      "outputs": []
    },
    {
      "cell_type": "code",
      "metadata": {
        "colab": {
          "base_uri": "https://localhost:8080/",
          "height": 199
        },
        "id": "xGiERTtk6rNi",
        "outputId": "2f2e780e-fcd5-4d49-b41e-a5d7b5c46a0d"
      },
      "source": [
        "data"
      ],
      "execution_count": 9,
      "outputs": [
        {
          "output_type": "execute_result",
          "data": {
            "application/vnd.google.colaboratory.intrinsic+json": {
              "type": "string"
            },
            "text/plain": [
              "'{\"1230\": {\"p_name\": \"kit-kat\", \"price\": 5, \"quant\": 100, \"p_type\": \"chockalate\"}, \"1231\": {\"p_name\": \"five star\", \"price\": 10, \"quant\": 120, \"p_type\": \"chockalate\"}, \"1232\": {\"p_name\": \"dairy-milk\", \"price\": 50, \"quant\": 50, \"p_type\": \"chockalate\"}, \"1233\": {\"p_name\": \"Unibic Biscuit\", \"price\": 25, \"quant\": 150, \"p_type\": \"Biscuit\"}, \"1234\": {\"p_name\": \"Dukes Biscuit\", \"price\": 250, \"quant\": 21, \"p_type\": \"Biscuit\"}, \"1235\": {\"p_name\": \"Cadbury Oreo Biscuit\", \"price\": 150, \"quant\": 50, \"p_type\": \"Biscuit\"}, \"1236\": {\"p_name\": \"Parle Biscuit\", \"price\": 10, \"quant\": 100, \"p_type\": \"Biscuit\"}, \"1237\": {\"p_name\": \"Britannia Biscuit\", \"price\": 30, \"quant\": 90, \"p_type\": \"Biscuit\"}, \"1238\": {\"p_name\": \"Sunfeast Biscuit\", \"price\": 5, \"quant\": 198, \"p_type\": \"Biscuit\"}, \"1239\": {\"p_name\": \"McVitie Biscuit\", \"price\": 15, \"quant\": 80, \"p_type\": \"Biscuit\"}, \"1240\": {\"p_name\": \"Samsung M30\", \"price\": 14900, \"quant\": 20, \"p_type\": \"Electronics\"}, \"1241\": {\"p_name\": \"Samsung M30S\", \"price\": 17900, \"quant\": 15, \"p_type\": \"Electronics\"}, \"1242\": {\"p_name\": \"MI Note5\", \"price\": 11100, \"quant\": 30, \"p_type\": \"Electronics\"}, \"1243\": {\"p_name\": \"MI Note10\", \"price\": 32000, \"quant\": 2, \"p_type\": \"Electronics\"}, \"1244\": {\"p_name\": \"Oppo Reno 6 \", \"price\": 21900, \"quant\": 6, \"p_type\": \"Electronics\"}, \"1245\": {\"p_name\": \"Oppo A25\", \"price\": 17900, \"quant\": 3, \"p_type\": \"Electronics\"}, \"1246\": {\"p_name\": \"Oppo F17\", \"price\": 12000, \"quant\": 10, \"p_type\": \"Electronics\"}, \"1247\": {\"p_name\": \"Boats headset\", \"price\": 1200, \"quant\": 7, \"p_type\": \"Electronics\"}, \"1248\": {\"p_name\": \"Samsung headset\", \"price\": 450, \"quant\": 10, \"p_type\": \"Electronics\"}, \"1249\": {\"p_name\": \"Iphone 10plus\", \"price\": 59999, \"quant\": 3, \"p_type\": \"Electronics\"}, \"1250\": {\"p_name\": \"Adidas\", \"price\": 1200, \"quant\": 20, \"p_type\": \"Shoes\"}, \"1251\": {\"p_name\": \"Puma\", \"price\": 1500, \"quant\": 15, \"p_type\": \"Shoes\"}, \"1252\": {\"p_name\": \"Woodland\", \"price\": 2999, \"quant\": 8, \"p_type\": \"Shoes\"}, \"1253\": {\"p_name\": \"Nike\", \"price\": 2500, \"quant\": 10, \"p_type\": \"Shoes\"}, \"1254\": {\"p_name\": \"Bata\", \"price\": 1999, \"quant\": 15, \"p_type\": \"Shoes\"}, \"1255\": {\"p_name\": \"Reymond Shirts\", \"price\": 2599, \"quant\": 15, \"p_type\": \"Shirt\"}, \"1256\": {\"p_name\": \"Arrow Shirts\", \"price\": 1999, \"quant\": 15, \"p_type\": \"Shirt\"}, \"1257\": {\"p_name\": \"Peter England Shirts\", \"price\": 1499, \"quant\": 15, \"p_type\": \"Shirt\"}, \"1258\": {\"p_name\": \"Van Heusen Shirts\", \"price\": 999, \"quant\": 13, \"p_type\": \"Shirt\"}, \"1259\": {\"p_name\": \"Allen solly\", \"price\": 1300, \"quant\": 15, \"p_type\": \"Shirt\"}}'"
            ]
          },
          "metadata": {},
          "execution_count": 9
        }
      ]
    },
    {
      "cell_type": "code",
      "metadata": {
        "id": "e4FvUpTH7Xpc"
      },
      "source": [
        ""
      ],
      "execution_count": 9,
      "outputs": []
    }
  ]
}